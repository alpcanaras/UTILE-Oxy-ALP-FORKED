{
 "cells": [
  {
   "cell_type": "code",
   "execution_count": 1,
   "id": "9853c247-e70d-45a7-b381-84d082729b00",
   "metadata": {},
   "outputs": [
    {
     "name": "stdout",
     "output_type": "stream",
     "text": [
      "Initializing...\n",
      "Binary TIFF stack created: /Users/alpcanaras/Desktop/FZJ Thesis General/Utile OXY/Git Test/binary_stack_1500 test!.tiff\n",
      "Labeled stack saved: /Users/alpcanaras/Desktop/FZJ Thesis General/Utile OXY/labeled_cleaned_stack_1500 test!.tiff\n",
      "Total frames to process: 1183\n",
      "Processing frames 0 to 499...\n",
      "Processing frames 500 to 999...\n",
      "Processing frames 1000 to 1182...\n",
      "Processing completed in 21.62 seconds.\n",
      "Combined metrics and coordinates saved to /Users/alpcanaras/Desktop/FZJ Thesis General/Utile OXY/Git Test/1500 test!_tracking_datas.csv\n",
      "Intermediate files are cleaned\n"
     ]
    }
   ],
   "source": [
    "import importlib\n",
    "from tracking_pipeline_complete import*\n",
    "\n",
    "case_study = \"1500 test!\" ## must be a string ##\n",
    "\n",
    "mask_folder = '/Users/alpcanaras/Desktop/FZJ Thesis General/Utile OXY/Git Test/1500 test'\n",
    "\n",
    "tracking_bubbles(mask_folder, case_study)"
   ]
  },
  {
   "cell_type": "code",
   "execution_count": 2,
   "id": "67959357-73a8-4747-b37c-c62df324fdc1",
   "metadata": {},
   "outputs": [
    {
     "data": {
      "text/plain": [
       "'/Users/alpcanaras/Desktop/FZJ Thesis General/Utile OXY/Git Test/binary_stack_1500 test!.tiff'"
      ]
     },
     "execution_count": 2,
     "metadata": {},
     "output_type": "execute_result"
    }
   ],
   "source": [
    "'/Users/alpcanaras/Desktop/FZJ Thesis General/Utile OXY/Git Test/binary_stack_1500 test!.tiff'"
   ]
  }
 ],
 "metadata": {
  "kernelspec": {
   "display_name": "Python 3 (ipykernel)",
   "language": "python",
   "name": "python3"
  },
  "language_info": {
   "codemirror_mode": {
    "name": "ipython",
    "version": 3
   },
   "file_extension": ".py",
   "mimetype": "text/x-python",
   "name": "python",
   "nbconvert_exporter": "python",
   "pygments_lexer": "ipython3",
   "version": "3.11.7"
  }
 },
 "nbformat": 4,
 "nbformat_minor": 5
}
