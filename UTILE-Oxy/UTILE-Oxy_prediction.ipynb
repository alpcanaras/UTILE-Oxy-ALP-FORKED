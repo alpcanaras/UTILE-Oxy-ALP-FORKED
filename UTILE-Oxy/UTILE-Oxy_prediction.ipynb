{
 "cells": [
  {
   "cell_type": "code",
   "execution_count": null,
   "id": "73a0edd3-3332-4e9f-96c6-bf1e1d3058b7",
   "metadata": {},
   "outputs": [],
   "source": [
    "from patch_pred import *\n",
    "from time_resolved_BAD import *\n",
    "from nucleation_heatmap import *\n",
    "from individual_bubble_analysis import *\n",
    "from individualcsv import *\n",
    "import os"
   ]
  },
  {
   "cell_type": "markdown",
   "id": "d796ad42-1368-4a8c-b3bb-64def47907e5",
   "metadata": {},
   "source": [
    "# Welcome to the Jupyter Notebook for the utilization of UTILE-Oxy\n",
    "\n",
    "With this notebook, you will be guided through the code and make it possible for you to analyze your PEMWE recorded videos automatically.\n",
    "\n",
    "This notebook should help you to run the automated segmentation of the bubbles in your images and afterward to apply the diverse functions to extract the information of interest from your data.\n",
    "\n",
    "Already integrated functions are:\n",
    "\n",
    "- Time-resolved bubble ratio evolution alongside the total bubble area distribution\n",
    "- Density maps depicting the bubble spatial distribution probabil\n",
    "ity throughout the experimen\n",
    "- Time-resolved analysis of bubble property evolution based on individual bubble shape analysis\n",
    "\n",
    "You can provide your own data and even your own model and be able to employ those functions as well! The dataset employed for model training and the trained model are accessible in Zenodo: https://doi.org/10.5281/zenodo.10184579\n"
   ]
  },
  {
   "cell_type": "code",
   "execution_count": null,
   "id": "88000687-9b2b-4bc2-9f3d-4e815bfbb526",
   "metadata": {},
   "outputs": [],
   "source": [
    "#First, we need to specify the folder where the video frames are stored\n",
    "\n",
    "image_path= \"./path/to/image/\"\n",
    "\n",
    "#Secondly, we need to specify where is your model stored (.hdf5)\n",
    "\n",
    "model_path = \"./path/to/model.hdf5\"\n",
    "\n",
    "#It is also required to create a folder to store the predicted masks\n",
    "\n",
    "os.makedirs(\"./mask_folder\", exist_ok=True)\n",
    "mask_folder = \"./mask_folder/\""
   ]
  },
  {
   "cell_type": "code",
   "execution_count": null,
   "id": "91d06b99-773a-49d1-973c-1767c6cd2296",
   "metadata": {},
   "outputs": [],
   "source": [
    "#Then we call the function patch_pred in order to predict the bubbles in all images and store the masks in a separate folder\n",
    "\n",
    "prediction(image_path, model_path, mask_folder)\n",
    "\n"
   ]
  },
  {
   "cell_type": "code",
   "execution_count": null,
   "id": "34751042-67f7-4bb2-8f39-ca27ae527019",
   "metadata": {},
   "outputs": [],
   "source": [
    "#Once the model finishes the prediction, we can directly jump into the feature extraction\n",
    "#The following function should plot the time-resolved bubble ratio evolution alongside with the total bubble area distribution\n",
    "#The figure is also saved on your directory.\n",
    "\n",
    "time_resolved_BAD(mask_folder)\n"
   ]
  },
  {
   "cell_type": "code",
   "execution_count": null,
   "id": "0716630e-bdc6-4fc1-b367-5e0844538fce",
   "metadata": {},
   "outputs": [],
   "source": [
    "#The next part is the distribution heatmaps of the bubble during the video\n",
    "\n",
    "heatmap(mask_folder)\n"
   ]
  },
  {
   "cell_type": "code",
   "execution_count": null,
   "id": "312c08e8-a305-406f-b314-6d8214290e3c",
   "metadata": {},
   "outputs": [],
   "source": [
    "#The last functions are related to the individual bubble shape analysis. For this we could just plot the time-resolved evolution\n",
    "#of the parameters taking the average of the frames using the following function. This step can be relatively time intensive depending on the\n",
    "#number of frames and the number of bubbles per frame\n",
    "\n",
    "individual_bubble_analysis(mask_folder)\n",
    "\n",
    "#It generates the plot and also saves the results in a csv file if furhter plotting or analysis\n"
   ]
  },
  {
   "cell_type": "code",
   "execution_count": null,
   "id": "96b09d1f-9071-45c9-b71f-c89194be86a8",
   "metadata": {},
   "outputs": [],
   "source": [
    "#Since the time-resolved plot can be difficult to interpret due to the high variance from time step to time step, we developed andther function\n",
    "#that takes the moving average of every 100 frames and plots also the standard deviation of the mean vlauea a shade around the line. (it takes as input\n",
    "#the csv file from the last function. We need to specify the path to this csv as well.\n",
    "\n",
    "csv_path = \"output_csv.csv\"\n",
    "\n",
    "moving_average_individual_analysis(csv_path)"
   ]
  },
  {
   "cell_type": "code",
   "execution_count": null,
   "id": "3f23b956-d6e6-47f3-bdf0-d050855dd56b",
   "metadata": {},
   "outputs": [],
   "source": []
  }
 ],
 "metadata": {
  "kernelspec": {
   "display_name": "Python 3 (ipykernel)",
   "language": "python",
   "name": "python3"
  },
  "language_info": {
   "codemirror_mode": {
    "name": "ipython",
    "version": 3
   },
   "file_extension": ".py",
   "mimetype": "text/x-python",
   "name": "python",
   "nbconvert_exporter": "python",
   "pygments_lexer": "ipython3",
   "version": "3.9.18"
  }
 },
 "nbformat": 4,
 "nbformat_minor": 5
}
