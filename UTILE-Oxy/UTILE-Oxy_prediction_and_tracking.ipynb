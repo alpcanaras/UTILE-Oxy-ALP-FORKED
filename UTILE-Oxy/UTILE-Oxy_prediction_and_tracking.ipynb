{
 "cells": [
  {
   "cell_type": "code",
   "execution_count": null,
   "id": "73a0edd3-3332-4e9f-96c6-bf1e1d3058b7",
   "metadata": {},
   "outputs": [],
   "source": [
    "from patch_pred import *\n",
    "from time_resolved_BAD import *\n",
    "from nucleation_heatmap import *\n",
    "from individual_bubble_analysis import *\n",
    "from individualcsv import *\n",
    "from id_track import *\n",
    "from tracking_pipeline_complete import*\n",
    "from analysis_from_tracking import*\n",
    "import os"
   ]
  },
  {
   "cell_type": "markdown",
   "id": "d796ad42-1368-4a8c-b3bb-64def47907e5",
   "metadata": {},
   "source": [
    "# Welcome to the Jupyter Notebook for the utilization of UTILE-Oxy\n",
    "\n",
    "With this notebook, you will be guided through the code and make it possible for you to analyze your PEMWE recorded videos automatically.\n",
    "\n",
    "This notebook should help you to run the automated segmentation of the bubbles in your images and afterward to apply the diverse functions to extract the information of interest from your data.\n",
    "\n",
    "Already integrated functions are:\n",
    "\n",
    "- Time-resolved bubble ratio evolution alongside the total bubble area distribution\n",
    "- Density maps depicting the bubble spatial distribution probabil\n",
    "ity throughout the experimen\n",
    "- Time-resolved analysis of bubble property evolution based on individual bubble shape analysis\n",
    "\n",
    "You can provide your own data and even your own model and be able to employ those functions as well! The dataset employed for model training and the trained model are accessible in Zenodo: https://doi.org/10.5281/zenodo.10184579\n"
   ]
  },
  {
   "cell_type": "code",
   "execution_count": null,
   "id": "88000687-9b2b-4bc2-9f3d-4e815bfbb526",
   "metadata": {},
   "outputs": [],
   "source": [
    "#First, we need to specify the folder where the video frames are stored\n",
    "\n",
    "image_path= \"./path/to/image/\"\n",
    "\n",
    "#Secondly, we need to specify where is your model stored (.hdf5)\n",
    "\n",
    "model_path = \"./path/to/model.hdf5\"\n",
    "\n",
    "#It is also required to create a folder to store the predicted masks\n",
    "\n",
    "os.makedirs(\"./mask_folder\", exist_ok=True)\n",
    "mask_folder = \"./mask_folder/\""
   ]
  },
  {
   "cell_type": "code",
   "execution_count": null,
   "id": "91d06b99-773a-49d1-973c-1767c6cd2296",
   "metadata": {},
   "outputs": [],
   "source": [
    "#Then we call the function patch_pred in order to predict the bubbles in all images and store the masks in a separate folder\n",
    "#Select if your model is trained on 256px patches or on the full image\n",
    "#Resize parameter resizes back your predicted images to the original size (if False, they remain at 512x512)\n",
    "\n",
    "#prediction_patch(image_path, model_path, mask_folder, resize = True)\n",
    "\n",
    "prediction_nopatch(image_path, model_path, mask_folder, resize=True)"
   ]
  },
  {
   "cell_type": "code",
   "execution_count": null,
   "id": "96b1cfbf",
   "metadata": {},
   "outputs": [],
   "source": [
    "# Create a gif out of your frames for visualization of your results and to compare them with the gif of your work! It can be either from your images or your predictions!\n",
    "\n",
    "input_folder = image_path #or mask_path  # depending on which gif you want to create\n",
    "output_filename = f'./output.gif'  # location of the output file\n",
    "frame_duration = 0.01  # Duration of each frame in the GIF in seconds\n",
    "gif_creation(input_folder, output_filename, frame_duration)\n",
    "\n"
   ]
  },
  {
   "cell_type": "code",
   "execution_count": null,
   "id": "34751042-67f7-4bb2-8f39-ca27ae527019",
   "metadata": {},
   "outputs": [],
   "source": [
    "#Once the model finishes the prediction, we can directly jump into the feature extraction\n",
    "#The following function should plot the time-resolved bubble ratio evolution alongside with the total bubble area distribution\n",
    "#The figure  and csv file are also saved on your directory.\n",
    "\n",
    "time_resolved_BAD(mask_folder)\n"
   ]
  },
  {
   "cell_type": "code",
   "execution_count": null,
   "id": "0716630e-bdc6-4fc1-b367-5e0844538fce",
   "metadata": {},
   "outputs": [],
   "source": [
    "#The next part is the distribution heatmaps of the bubble during the video\n",
    "\n",
    "heatmap(mask_folder)\n"
   ]
  },
  {
   "cell_type": "code",
   "execution_count": null,
   "id": "312c08e8-a305-406f-b314-6d8214290e3c",
   "metadata": {},
   "outputs": [],
   "source": [
    "#The last functions are related to the individual bubble shape analysis. For this we could just plot the time-resolved evolution\n",
    "#of the parameters taking the average of the frames using the following function. This step can be relatively time intensive depending on the\n",
    "#number of frames and the number of bubbles per frame\n",
    "\n",
    "individual_bubble_analysis(mask_folder)\n",
    "\n",
    "#It generates the plot and also saves the results in a csv file if furhter plotting or analysis\n"
   ]
  },
  {
   "cell_type": "code",
   "execution_count": null,
   "id": "96b09d1f-9071-45c9-b71f-c89194be86a8",
   "metadata": {},
   "outputs": [],
   "source": [
    "#Since the time-resolved plot can be difficult to interpret due to the high variance from time step to time step, we developed andther function\n",
    "#that takes the moving average of every 100 frames and plots also the standard deviation of the mean vlauea a shade around the line. (it takes as input\n",
    "#the csv file from the last function. We need to specify the path to this csv as well.\n",
    "\n",
    "csv_path = \"output_csv.csv\"\n",
    "\n",
    "moving_average_individual_analysis(csv_path)"
   ]
  },
  {
   "cell_type": "code",
   "execution_count": null,
   "id": "3f23b956-d6e6-47f3-bdf0-d050855dd56b",
   "metadata": {},
   "outputs": [],
   "source": [
    "# To check the area of your images that actually can contain bubbles (important for e.g. bubble coverage), a binary image is needed where the possible bubble containing area is segmented as 1 and BG as 0.\n",
    "# With this we can run the following function to perform the analysis and get the ratios\n",
    "\n",
    "filled_img = './Full Channel.png'\n",
    "calculate_area_ratio(filled_img)"
   ]
  },
  {
   "cell_type": "code",
   "execution_count": null,
   "id": "2ba3a82d-1b5d-4ab9-a1c9-c060df30a230",
   "metadata": {},
   "outputs": [],
   "source": [
    '# Extracted bubbles are tracked via this algorithm.\n'
    '# Each and every bubble is labeled, their metrics are saved individually for further analysis.\n'
    '# Images from the mask folder are converted into a TIFF stack, TIFF stack is attached end-to-end to create 3D volumes.\n'
    '# Volumes are labeled and then bubbles are individually tracked.\n'
    '# Bubble metrics such as coordinates, area, diameter, and other geometrical features are calculated for each individual bubble and are stored in a CSV file.\n'
    '# Bubbles will get a label in the format of 1_frame0;\n'
    '# The first number indicates the bubble label, and is unique to each bubble, and frame0 indicates the first frame where the bubble is first detected.\n'
    '# Labels are static once assigned and are unique to each bubble.\n'
    '# Once two bubbles merge; the label will be in the format of 3_frame2_(1+2), indicating that labels 1 and 2 are the parents of bubble 3 that is first detected at frame 2.\n'
    "\n",
    '# Please give a name for your project; this will be used to name subsequent files and graph titles\n'
    "case_study = \"1500mV\"\n",
    "tracking_bubbles(mask_folder, case_study)"
  ]
 },
 {
   "cell_type": "code",
   "execution_count": null,
   "id": "3ad8c5fd-f0c9-41d3-bb52-2bdcbf340cf6",
   "metadata": {},
   "outputs": [],
   "source": [
    "# Generates a plot that tracks the count of newly created bubbles throughout the video.\n",
    "\n",
    "plot_new_bubbles_vs_time(combined_csv_path, case_study)\n"
  ]
 },
 {
   "cell_type": "code",
   "execution_count": null,
   "id": "f58ae950-3409-4c0a-b36f-2ebe750899fe",
   "metadata": {},
   "outputs": [],
   "source": [
    "# Generates a plot that tracks the count of merging events of bubbles throughout the video.\n",
    "\n",
    "plot_merging_events_vs_time(combined_csv_path, case_study)"
   ]
  },
  {
   "cell_type": "code",
   "execution_count": null,
   "id": "71a1a00e-16e5-4ade-a6d0-64a86104e7bb",
   "metadata": {},
   "outputs": [],
   "source": [
    "# Generates a density map (heatmap) for bubble emerging points through the video\n",
    "\n",
    "generate_heatmap(combined_csv_path, case_study)"
   ]
  },
  {
   "cell_type": "code",
   "execution_count": null,
   "id": "d1e73f81-f4a1-4cfe-ac45-8ca84100588c",
   "metadata": {},
   "outputs": [],
   "source": [
    "##Generates a density map (heatmap) for bubble coalesence points through the video\n",
    "\n",
    "generate_merging_heatmap(combined_csv_path, case_study)"
   ]
  },
  {
   "cell_type": "code",
   "execution_count": null,
   "id": "982c4f1e-1b79-4fc1-a2e3-2c0eead1017f",
   "metadata": {},
   "outputs": [],
   "source": [
    "# Generates a map for tracking individual bubble trajectories \n",
    "\n",
    "analyze_bubble_trajectories_and_velocities(combined_csv_path, case_study)"
   ]
  },
  {
   "cell_type": "code",
   "execution_count": null,
   "id": "8e818db5-2782-45ee-836d-0234bc04a683",
   "metadata": {},
   "outputs": [],
   "source": [
    "#Creates a CSV file that contains bubble metrics such as average new bubble size, average size before moving etc.\n",
    "\n",
    "bubble_metrics_analysis(combined_csv_path, movement_threshold=5, case_study)"
   ]
  },
  {
   "cell_type": "code",
   "execution_count": null,
   "id": "d0ddc06f",
   "metadata": {},
   "outputs": [],
   "source": [
    "# [Experimental] Channel-wise bubble velocity measuring algorithm. This algorithm takes your binary image with the channels filled and your segmented video. The algorithm is specialized to detect orizontal channels and separate them automatically. \n",
    "# Afterwards, it analyze the channels individually using a modified version of the simple tracking algorithm nearst neighbor, where outliers are removed and bubbles get IDs associated to reduce artifacts in the detections.\n",
    "# It outputs the velocity of each channels plus the avergae of the all channels in pixel per frame (px/frame).\n",
    "\n",
    "channel_analysis(filled_img, mask_folder)"
   ]
  }
 ],
 "metadata": {
  "kernelspec": {
   "display_name": "Python 3 (ipykernel)",
   "language": "python",
   "name": "python3"
  },
  "language_info": {
   "codemirror_mode": {
    "name": "ipython",
    "version": 3
   },
   "file_extension": ".py",
   "mimetype": "text/x-python",
   "name": "python",
   "nbconvert_exporter": "python",
   "pygments_lexer": "ipython3",
   "version": "3.11.7"
  }
 },
 "nbformat": 4,
 "nbformat_minor": 5
}
